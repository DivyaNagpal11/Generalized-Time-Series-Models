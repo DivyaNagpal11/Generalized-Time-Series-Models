{
 "cells": [
  {
   "cell_type": "markdown",
   "metadata": {},
   "source": [
    "# Cash/Revenue Forecasting"
   ]
  },
  {
   "cell_type": "markdown",
   "metadata": {},
   "source": [
    "#### Import required packages"
   ]
  },
  {
   "cell_type": "code",
   "execution_count": 1,
   "metadata": {},
   "outputs": [],
   "source": [
    "from model.models import Univariate\n",
    "import pandas as pd\n",
    "from itertools import product\n",
    "from tqdm import tqdm_notebook\n",
    "import statsmodels.api as sm\n",
    "import numpy as np\n",
    "import pickle\n",
    "import os"
   ]
  },
  {
   "cell_type": "code",
   "execution_count": 2,
   "metadata": {},
   "outputs": [],
   "source": [
    "\n",
    "transformed_data_path = r'C:\\Users\\CK073783\\OneDrive - Cerner Corporation\\Desktop\\Projects\\Revenue Forecasting\\Versions\\version 2\\data\\processed_data\\All Adventist W\\\\'\n",
    "filename = 'December-2019.pkl'\n",
    "filehandler = open(transformed_data_path+filename, 'rb') \n",
    "data_object = pickle.load(filehandler)\n",
    "def filter_data(summary_df):\n",
    "        return summary_df[(summary_df['valid'])&(summary_df['months_missing']==0)][data_object.target_items]\n",
    "\n",
    "BE = 'Lodi Memorial Hospital'\n",
    "target_dates = data_object.target_dates\n",
    "target_value = data_object.target_value\n",
    "target_items = data_object.target_items"
   ]
  },
  {
   "cell_type": "code",
   "execution_count": 3,
   "metadata": {},
   "outputs": [],
   "source": [
    "data_date = data_object.summary_df.end_date.max().month_name() +'-'+str(data_object.summary_df.end_date.max().year)\n",
    "filtered_data  = data_object.transform_data[data_object.transform_data[data_object.target_items].isin(filter_data(data_object.summary_df))]\n",
    "    "
   ]
  },
  {
   "cell_type": "code",
   "execution_count": 4,
   "metadata": {},
   "outputs": [],
   "source": [
    "subset_df = filtered_data[filtered_data[target_items]==BE].reset_index(drop=True)\n",
    "subset_df[target_dates] = pd.to_datetime(subset_df[target_dates]).copy()\n",
    "subset_df = subset_df.sort_values('posted_date').reset_index()\n",
    "subset_df.set_index('posted_date',inplace=True)"
   ]
  },
  {
   "cell_type": "code",
   "execution_count": 5,
   "metadata": {
    "scrolled": false
   },
   "outputs": [],
   "source": [
    "models = Univariate(BE,data = subset_df,target_items= target_items,target_value=target_value,target_dates=target_dates,model_name='tbats')"
   ]
  },
  {
   "cell_type": "code",
   "execution_count": 6,
   "metadata": {},
   "outputs": [
    {
     "name": "stdout",
     "output_type": "stream",
     "text": [
      "tbats--> train_Mape =  6.92 , test_Mape =  1.225\n"
     ]
    }
   ],
   "source": [
    "for model in models.models_ran:\n",
    "    print(F\"{model}--> train_Mape = \",models.models_ran[model].train_mape,\", test_Mape = \",models.models_ran[model].test_mape)"
   ]
  },
  {
   "cell_type": "code",
   "execution_count": 7,
   "metadata": {},
   "outputs": [
    {
     "data": {
      "text/plain": [
       "{'tbats': <model.TBATS_c.TBATS_c at 0x171fe042bc8>}"
      ]
     },
     "execution_count": 7,
     "metadata": {},
     "output_type": "execute_result"
    }
   ],
   "source": [
    "models.models_ran"
   ]
  },
  {
   "cell_type": "code",
   "execution_count": 10,
   "metadata": {},
   "outputs": [
    {
     "data": {
      "text/plain": [
       "[0.17690259580935952, 1.4064179197802567, 0.3891815167204256]"
      ]
     },
     "execution_count": 10,
     "metadata": {},
     "output_type": "execute_result"
    }
   ],
   "source": [
    "models.models_ran[model].apes"
   ]
  },
  {
   "cell_type": "markdown",
   "metadata": {},
   "source": [
    "### Model output \n",
    "\n",
    "Please run below section after you run the model using python run_model.py -ti \"Lodi Memorial Hospital\" -mn \"auto.arima\""
   ]
  },
  {
   "cell_type": "code",
   "execution_count": 27,
   "metadata": {},
   "outputs": [],
   "source": [
    "model_output_path = r'C:\\Users\\CK073783\\OneDrive - Cerner Corporation\\Desktop\\Projects\\Revenue Forecasting\\Versions\\version 2\\data\\model_output\\Lodi Memorial Hospital'\n",
    "\n",
    "file = 'December-2019.pkl'\n",
    "filehandler = open(model_output_path+'/'+file, 'rb') \n",
    "data_object = pickle.load(filehandler)\n",
    "\n"
   ]
  },
  {
   "cell_type": "code",
   "execution_count": 30,
   "metadata": {},
   "outputs": [
    {
     "name": "stdout",
     "output_type": "stream",
     "text": [
      "output: for BE Lodi Memorial Hospital,\n",
      " auto.arima--> train_Mape =  11.585407457292737 , test_Mape =  14.97343092840391\n"
     ]
    }
   ],
   "source": [
    "for BE in data_object:\n",
    "    models = data_object[BE]\n",
    "    for model in models.models_ran:\n",
    "        print(F\"output: for BE {BE},\\n {model}--> train_Mape = \",models.models_ran[model].train_mape,\", test_Mape = \",models.models_ran[model].test_mape)\n"
   ]
  },
  {
   "cell_type": "code",
   "execution_count": null,
   "metadata": {},
   "outputs": [],
   "source": []
  }
 ],
 "metadata": {
  "kernelspec": {
   "display_name": "Python 3",
   "language": "python",
   "name": "python3"
  },
  "language_info": {
   "codemirror_mode": {
    "name": "ipython",
    "version": 3
   },
   "file_extension": ".py",
   "mimetype": "text/x-python",
   "name": "python",
   "nbconvert_exporter": "python",
   "pygments_lexer": "ipython3",
   "version": "3.7.4"
  }
 },
 "nbformat": 4,
 "nbformat_minor": 4
}
